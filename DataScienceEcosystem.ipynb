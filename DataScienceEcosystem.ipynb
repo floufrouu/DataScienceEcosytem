{
 "cells": [
  {
   "cell_type": "markdown",
   "metadata": {},
   "source": [
    "#### Add your code below following the instructions given in the course\n"
   ]
  },
  {
   "cell_type": "markdown",
   "metadata": {},
   "source": [
    "# Data Science Tools and Ecosystem"
   ]
  },
  {
   "cell_type": "markdown",
   "metadata": {},
   "source": [
    "#### In this comprehensive notebook, we delve into the dynamic landscape of Data Science Tools and Ecosystem, synthesizing a wealth of knowledge and insights to guide both novice enthusiasts and seasoned practitioners through the intricate realm of data analysis and interpretation. Within these digital pages, we explore the multifaceted toolkit available to data scientists, ranging from foundational programming languages like Python and R to cutting-edge machine learning frameworks such as TensorFlow and PyTorch. Moreover, we navigate the rich ecosystem surrounding data science, illuminating the interconnected web of libraries, platforms, and resources that empower researchers and businesses alike to harness the transformative potential of data-driven decision-making."
   ]
  },
  {
   "cell_type": "markdown",
   "metadata": {},
   "source": [
    "#### **Objectives:**\n",
    "* Python\n",
    "* R\n",
    "* SQL\n",
    "* Julia\n",
    "* Jupyter Notebooks\n",
    "* Rstudio\n",
    "* GitHub"
   ]
  },
  {
   "cell_type": "markdown",
   "metadata": {
    "jp-MarkdownHeadingCollapsed": true,
    "tags": []
   },
   "source": [
    "#### Some of the popular languages that Data Scientists use are:-\n",
    "#### Python: Renowned for its versatility and extensive libraries such as NumPy, Pandas, and scikit-learn, Python is widely favored for tasks ranging from data manipulation to machine learning.\n",
    "#### R: Praised for its statistical capabilities and visualization tools like ggplot2, R remains a prominent choice for data analysis and exploration.\n",
    "#### SQL: Essential for querying and managing relational databases, SQL (Structured Query Language) is indispensable for accessing and manipulating structured data.\n",
    "#### Julia: Emerging as a high-performance language for numerical computing, Julia combines the ease of use of Python with the speed of languages like C and Fortran, making it increasingly popular among data scientists for computationally intensive tasks."
   ]
  },
  {
   "cell_type": "markdown",
   "metadata": {
    "jp-MarkdownHeadingCollapsed": true,
    "tags": []
   },
   "source": [
    "#### In this comprehensive notebook, we delve into the dynamic landscape of Data Science Tools and Ecosystem, synthesizing a wealth of knowledge and insights to guide both novice enthusiasts and seasoned practitioners through the intricate realm of data analysis and interpretation. Within these digital pages, we explore the multifaceted toolkit available to data scientists, ranging from foundational programming languages like Python and R to cutting-edge machine learning frameworks such as TensorFlow and PyTorch. Moreover, we navigate the rich ecosystem surrounding data science, illuminating the interconnected web of libraries, platforms, and resources that empower researchers and businesses alike to harness the transformative potential of data-driven decision-making."
   ]
  },
  {
   "cell_type": "markdown",
   "metadata": {},
   "source": [
    "#### 1. Python\n",
    "#### 2. R\n",
    "#### 3. SQL\n",
    "#### 4. Julia"
   ]
  },
  {
   "cell_type": "markdown",
   "metadata": {},
   "source": [
    "#### Some commonly used libraries by Data Scientists include:-\n",
    "#### NumPy: Essential for numerical computing in Python, NumPy provides support for large, multi-dimensional arrays and matrices, along with a collection of mathematical functions to operate on these arrays.\n",
    "#### Pandas: A powerful data manipulation library built on top of NumPy, Pandas offers high-level data structures and functions designed for structured data analysis, such as data cleaning, transformation, and manipulation.\n",
    "#### scikit-learn: A popular machine learning library in Python, scikit-learn provides simple and efficient tools for data mining and data analysis. It includes various algorithms for classification, regression, clustering, dimensionality reduction, and more, along with utilities for model selection and evaluation.\n",
    "#### Matplotlib: A versatile plotting library for Python, Matplotlib allows Data Scientists to create a wide variety of static, interactive, and animated visualizations, ranging from simple line plots to complex 3D plots."
   ]
  },
  {
   "cell_type": "markdown",
   "metadata": {},
   "source": [
    "#### 1. NumPy\n",
    "#### 2. Pandas\n",
    "#### 3. scikit-learn\n",
    "#### 4. Matplotlib"
   ]
  },
  {
   "cell_type": "markdown",
   "metadata": {
    "tags": []
   },
   "source": [
    "| Data Science Tools |\n",
    "| ------------------ |\n",
    "| Jupyter Notebooks |\n",
    "| RStudio |\n",
    "| Apache Zeppelin |\n"
   ]
  },
  {
   "cell_type": "markdown",
   "metadata": {},
   "source": [
    "### Below are a few examples of evaluating arithmetic expressions in Python:\n",
    "#### result = 10 + 5\n",
    "#### print(result)  # Output: 15\n",
    "\n",
    "#### result = 2 ** 3\n",
    "#### print(result)  # Output: 8\n",
    "\n",
    "#### result = 100 / 5\n",
    "#### print(result)  # Output: 20.0 \n",
    "\n",
    "#### result = 10 % 3\n",
    "#### print(result)  # Output: 1 \n",
    "\n",
    "\n",
    "\n",
    "\n"
   ]
  },
  {
   "cell_type": "markdown",
   "metadata": {
    "tags": []
   },
   "source": [
    "### This a simple arithmetic expression to mutiply then add integers\n",
    "\n"
   ]
  },
  {
   "cell_type": "code",
   "execution_count": 5,
   "metadata": {
    "tags": []
   },
   "outputs": [
    {
     "data": {
      "text/plain": [
       "17"
      ]
     },
     "execution_count": 5,
     "metadata": {},
     "output_type": "execute_result"
    }
   ],
   "source": [
    "(3*4)+5"
   ]
  },
  {
   "cell_type": "markdown",
   "metadata": {},
   "source": [
    "### This will convert 200 minutes to hours by diving by 60"
   ]
  },
  {
   "cell_type": "code",
   "execution_count": 6,
   "metadata": {
    "tags": []
   },
   "outputs": [
    {
     "data": {
      "text/plain": [
       "3.3333333333333335"
      ]
     },
     "execution_count": 6,
     "metadata": {},
     "output_type": "execute_result"
    }
   ],
   "source": [
    "200/60"
   ]
  },
  {
   "cell_type": "markdown",
   "metadata": {},
   "source": [
    "## Author\n",
    "#### Maryam Mateen"
   ]
  },
  {
   "cell_type": "code",
   "execution_count": null,
   "metadata": {},
   "outputs": [],
   "source": []
  }
 ],
 "metadata": {
  "kernelspec": {
   "display_name": "Python",
   "language": "python",
   "name": "conda-env-python-py"
  },
  "language_info": {
   "codemirror_mode": {
    "name": "ipython",
    "version": 3
   },
   "file_extension": ".py",
   "mimetype": "text/x-python",
   "name": "python",
   "nbconvert_exporter": "python",
   "pygments_lexer": "ipython3",
   "version": "3.7.12"
  }
 },
 "nbformat": 4,
 "nbformat_minor": 4
}
